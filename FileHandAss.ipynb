{
 "cells": [
  {
   "cell_type": "code",
   "execution_count": 3,
   "metadata": {},
   "outputs": [
    {
     "data": {
      "text/plain": [
       "'TCS,Sai,Rohit,Satya,Dhoni,Sarath,Saroj,Venkat,Sas\\nINFOSYS,Kohli,Santosh,Venkat,Koti,Prabha,Soumya,Mishra\\nWIPRO,Satya,Kohli,Ram,Chinna,Pop,Amelia,Suresh,Arjuna\\nCTS,Prabha,Subha,Debha,Rabha,Venkat,Dhoni,Surya,Saroj\\nNTH,Narayana,Akhil,Arha,Venkat,Sravya,Ananya,Revanth,Aha\\nABC,Arha,Chinna,Satya,Dhoni,Venkat,Rohit,Yash,Nikhilesh'"
      ]
     },
     "execution_count": 3,
     "metadata": {},
     "output_type": "execute_result"
    }
   ],
   "source": [
    "#1. Write a program to fetch all data from the file.\n",
    "file_1 = open('nthdata.txt', 'r')\n",
    "file_1.read()"
   ]
  },
  {
   "cell_type": "code",
   "execution_count": 1,
   "metadata": {},
   "outputs": [
    {
     "name": "stdout",
     "output_type": "stream",
     "text": [
      "TCS,Sai,Rohit,Satya,Dhoni,Sarath,Saroj,Venkat,Sas\n",
      "\n"
     ]
    }
   ],
   "source": [
    "#2. Write a program to read the first line from the file.\n",
    "file_1 = open('nthdata.txt', 'r')\n",
    "read = file_1.readline()\n",
    "print(read)"
   ]
  },
  {
   "cell_type": "code",
   "execution_count": 12,
   "metadata": {},
   "outputs": [
    {
     "name": "stdout",
     "output_type": "stream",
     "text": [
      "ABC,Arha,Chinna,Satya,Dhoni,Venkat,Rohit,Yash,Nikhilesh\n"
     ]
    }
   ],
   "source": [
    "#3. Write a program to read the last line from the file.\n",
    "file_1 = open('nthdata.txt', 'r')\n",
    "file_2 = file_1.readlines()\n",
    "last_line = file_2[-1]\n",
    "print(last_line)"
   ]
  },
  {
   "cell_type": "code",
   "execution_count": 1,
   "metadata": {},
   "outputs": [
    {
     "name": "stdout",
     "output_type": "stream",
     "text": [
      "WIPRO,Satya,Kohli,Ram,Chinna,Pop,Amelia,Suresh,Arjuna\n",
      "\n"
     ]
    }
   ],
   "source": [
    "#4. Write a program to read the 3rd line from file\n",
    "file_1 = open('nthdata.txt', 'r')\n",
    "lines = file_1.readlines()\n",
    "print(lines[2])"
   ]
  },
  {
   "cell_type": "code",
   "execution_count": 3,
   "metadata": {},
   "outputs": [
    {
     "name": "stdout",
     "output_type": "stream",
     "text": [
      "325\n"
     ]
    }
   ],
   "source": [
    "#5. Write a program to count total number of characters in the file.\n",
    "file_1 = open('nthdata.txt', 'r')\n",
    "data = file_1.read()\n",
    "print(len(data))"
   ]
  },
  {
   "cell_type": "code",
   "execution_count": 5,
   "metadata": {},
   "outputs": [
    {
     "name": "stdout",
     "output_type": "stream",
     "text": [
      "47\n"
     ]
    }
   ],
   "source": [
    "#6. Write a program to count total number of commas in the file.\n",
    "file_1 = open('nthdata.txt', 'r')\n",
    "data = file_1.read()\n",
    "print(data.count(','))"
   ]
  },
  {
   "cell_type": "code",
   "execution_count": 2,
   "metadata": {},
   "outputs": [
    {
     "name": "stdout",
     "output_type": "stream",
     "text": [
      "9\n"
     ]
    }
   ],
   "source": [
    "#7. Write a program to count total number of words in the first line.\n",
    "file_1 = open('nthdata.txt', 'r')  \n",
    "data = file_1.readline()\n",
    "print(len(data.split(',')))"
   ]
  },
  {
   "cell_type": "code",
   "execution_count": 8,
   "metadata": {},
   "outputs": [
    {
     "name": "stdout",
     "output_type": "stream",
     "text": [
      "6\n"
     ]
    }
   ],
   "source": [
    "#8. write a program to count total number of lines in the file.\n",
    "file_1 = open('nthdata.txt', 'r')\n",
    "data = file_1.readlines()   \n",
    "print(len(data))"
   ]
  },
  {
   "cell_type": "code",
   "execution_count": 1,
   "metadata": {},
   "outputs": [
    {
     "name": "stdout",
     "output_type": "stream",
     "text": [
      "1\n"
     ]
    }
   ],
   "source": [
    "#9. Write a program to count total number of 'Sai' name in the file.\n",
    "file_1 = open('nthdata.txt', 'r')\n",
    "data = file_1.read()\n",
    "print(data.count('Sai'))"
   ]
  },
  {
   "cell_type": "code",
   "execution_count": 4,
   "metadata": {},
   "outputs": [
    {
     "name": "stdout",
     "output_type": "stream",
     "text": [
      "TCS\n",
      "INFOSYS\n",
      "WIPRO\n",
      "CTS\n",
      "NTH\n",
      "ABC\n"
     ]
    }
   ],
   "source": [
    "#10. Write a program to fetch the first word from each line in the file.\n",
    "file_1 = open('nthdata.txt', 'r')\n",
    "data = file_1.readlines()\n",
    "for i in data:\n",
    "    print(i.split(',')[0])"
   ]
  },
  {
   "cell_type": "code",
   "execution_count": 5,
   "metadata": {},
   "outputs": [
    {
     "name": "stdout",
     "output_type": "stream",
     "text": [
      "Sas\n",
      "\n",
      "Mishra\n",
      "\n",
      "Arjuna\n",
      "\n",
      "Saroj\n",
      "\n",
      "Aha\n",
      "\n",
      "Nikhilesh\n"
     ]
    }
   ],
   "source": [
    "#11. write a program to fetch the last word from each line.\n",
    "file_1 = open('nthdata.txt', 'r')\n",
    "data = file_1.readlines()\n",
    "for i in data:\n",
    "    print(i.split(',')[-1])"
   ]
  },
  {
   "cell_type": "code",
   "execution_count": 8,
   "metadata": {},
   "outputs": [
    {
     "name": "stdout",
     "output_type": "stream",
     "text": [
      "['Amelia', 'Arjuna\\nCTS', 'Akhil', 'Arha', 'Ananya', 'Aha\\nABC', 'Arha']\n"
     ]
    }
   ],
   "source": [
    "#12. Write a program to fetch all words which starts with 'a' character.\n",
    "file_1 = open('nthdata.txt', 'r')\n",
    "data = file_1.read().split(',')\n",
    " "
   ]
  },
  {
   "cell_type": "code",
   "execution_count": 13,
   "metadata": {},
   "outputs": [
    {
     "name": "stdout",
     "output_type": "stream",
     "text": [
      "['Sai', 'Satya', 'Dhoni', 'Kohli', 'Koti', 'Prabha', 'Soumya', 'Mishra\\nWIPRO', 'Satya', 'Kohli', 'Chinna', 'Amelia', 'Prabha', 'Subha', 'Debha', 'Rabha', 'Dhoni', 'Surya', 'Narayana', 'Arha', 'Sravya', 'Ananya', 'Arha', 'Chinna', 'Satya', 'Dhoni']\n"
     ]
    }
   ],
   "source": [
    "#13. Write a program to fetch all words which ends with an vowel.\n",
    "file_1 = open('nthdata.txt', 'r')\n",
    "data = file_1.read().split(',')\n",
    "res = [i for i in data if i[-1].lower() in 'aeiou']\n",
    "# res = [i for i in data if i.endswith('aeiouAEIOU')]\n",
    "print(res)"
   ]
  },
  {
   "cell_type": "code",
   "execution_count": 21,
   "metadata": {},
   "outputs": [
    {
     "name": "stdout",
     "output_type": "stream",
     "text": [
      "['Sai', 'Rohit', 'Satya', 'Dhoni', 'Sarath', 'Saroj', 'Venkat', 'Sas\\nINFOSYS', 'Kohli', 'Santosh', 'Venkat', 'Koti', 'Prabha', 'Soumya', 'Mishra\\nWIPRO', 'Satya', 'Kohli', 'Ram', 'Chinna', 'Amelia', 'Arjuna\\nCTS', 'Prabha', 'Subha', 'Debha', 'Rabha', 'Venkat', 'Dhoni', 'Surya', 'Saroj\\nNTH', 'Narayana', 'Akhil', 'Arha', 'Venkat', 'Sravya', 'Ananya', 'Revanth', 'Aha\\nABC', 'Arha', 'Chinna', 'Satya', 'Dhoni', 'Venkat', 'Rohit', 'Yash', 'Nikhilesh']\n"
     ]
    }
   ],
   "source": [
    "#14. Write a program to fetch all words which has either 'a' or 'i' characters in the file.\n",
    "file_1 = open('nthdata.txt', 'r')\n",
    "data = file_1.read().split(',')\n",
    "res = [i for i in data if 'a' in i.lower() or 'i' in i.lower()]\n",
    "print(res)"
   ]
  },
  {
   "cell_type": "code",
   "execution_count": 25,
   "metadata": {},
   "outputs": [
    {
     "name": "stdout",
     "output_type": "stream",
     "text": [
      "['Rohit', 'Satya', 'Dhoni', 'Saroj', 'Kohli', 'Satya', 'Kohli', 'Subha', 'Debha', 'Rabha', 'Dhoni', 'Surya', 'Akhil', 'Satya', 'Dhoni', 'Rohit']\n"
     ]
    }
   ],
   "source": [
    "#15. Write a program to fetch all words which contains only 5 characters in the file.\n",
    "file_1 = open('nthdata.txt', 'r')\n",
    "data = file_1.read().split(',')\n",
    "res = [i for i in data if len(i)==5]\n",
    "print(res)"
   ]
  },
  {
   "cell_type": "code",
   "execution_count": 33,
   "metadata": {},
   "outputs": [
    {
     "name": "stdout",
     "output_type": "stream",
     "text": [
      "['Sai', 'Rohit', 'Dhoni', 'Sas\\nINFOSYS', 'Kohli', 'Koti', 'Mishra\\nWIPRO', 'Kohli', 'Chinna', 'Amelia', 'Dhoni', 'Akhil', 'Chinna', 'Dhoni', 'Rohit', 'Nikhilesh']\n"
     ]
    }
   ],
   "source": [
    "#16. Write a program to fetch all words which does not contains vowels except i in the file.\n",
    "file_1 = open('nthdata.txt', 'r')\n",
    "data = file_1.read().split(',')\n",
    "words = [i for i in data if 'i' in i.lower() and 'aeou' not in i.lower()]\n",
    "print(words)"
   ]
  },
  {
   "cell_type": "code",
   "execution_count": 35,
   "metadata": {},
   "outputs": [
    {
     "name": "stdout",
     "output_type": "stream",
     "text": [
      "['TCS', 'Sas\\nINFOSYS', 'Mishra\\nWIPRO', 'Arjuna\\nCTS', 'Saroj\\nNTH', 'Aha\\nABC']\n"
     ]
    }
   ],
   "source": [
    "#17. Write a program to fetch all words which ends with uppercase character in the file.\n",
    "file_1 = open('nthdata.txt', 'r')\n",
    "data = file_1.read().split(',')\n",
    "words = [i for i in data if i[-1].isupper()]\n",
    "print(words)"
   ]
  },
  {
   "cell_type": "code",
   "execution_count": 36,
   "metadata": {},
   "outputs": [
    {
     "name": "stdout",
     "output_type": "stream",
     "text": [
      "273\n"
     ]
    }
   ],
   "source": [
    "#18. Write a program to count total number of characters in th file excluding commas and \\ns.\n",
    "file_1 = open('nthdata.txt', 'r')   \n",
    "data = file_1.read().replace(',','').replace('\\n','')\n",
    "print(len(data))\n"
   ]
  },
  {
   "cell_type": "code",
   "execution_count": 37,
   "metadata": {},
   "outputs": [
    {
     "name": "stdout",
     "output_type": "stream",
     "text": [
      "48\n"
     ]
    }
   ],
   "source": [
    "#19. Write a program to count total number of words in the entire file.\n",
    "file_1 = open('nthdata.txt', 'r')       \n",
    "data = file_1.read().split(',')\n",
    "print(len(data))"
   ]
  },
  {
   "cell_type": "code",
   "execution_count": 42,
   "metadata": {},
   "outputs": [
    {
     "name": "stdout",
     "output_type": "stream",
     "text": [
      "['Sarath', 'Venkat', 'Sas\\n', 'Venkat', 'Koti', 'Prabha', 'Soumya', 'Chinna', 'Amelia', 'Suresh', 'Prabha', 'Venkat', 'Saroj\\n', 'Narayana', 'Arha', 'Venkat', 'Sravya', 'Ananya', 'Aha\\n', 'Arha', 'Chinna', 'Venkat', 'Yash']\n"
     ]
    }
   ],
   "source": [
    "#20. Write a program to fetch all even number words from every line in the file.\n",
    "file_1 = open('nthdata.txt', 'r')       \n",
    "data = file_1.readlines()\n",
    "for i in data:\n",
    "    for j in i:\n",
    "        if j.isdigit():\n",
    "            if int(j)%2==0:\n",
    "                print(j)\n",
    "print(even_num)"
   ]
  },
  {
   "cell_type": "code",
   "execution_count": 33,
   "metadata": {},
   "outputs": [
    {
     "name": "stdout",
     "output_type": "stream",
     "text": [
      "['Prabha', 'Prabha', 'Subha', 'Debha', 'Rabha']\n"
     ]
    }
   ],
   "source": [
    "#21. Write a program to fetch all words which ends with 'bha' in the file.\n",
    "file_1 = open('nthdata.txt', 'r')\n",
    "data = file_1.read().split(',')\n",
    "words = [i for i in data if i.endswith('bha')]\n",
    "print(words)"
   ]
  },
  {
   "cell_type": "code",
   "execution_count": 38,
   "metadata": {},
   "outputs": [
    {
     "name": "stdout",
     "output_type": "stream",
     "text": [
      "['TCS']\n"
     ]
    }
   ],
   "source": [
    "#22. Write a program to display all TCS employees.\n",
    "file_1 = open('nthdata.txt', 'r')\n",
    "data = file_1.read().split(',')\n",
    "words = [i for i in data if 'TCS' in i]\n",
    "print(words)\n"
   ]
  },
  {
   "cell_type": "code",
   "execution_count": 1,
   "metadata": {},
   "outputs": [
    {
     "name": "stdout",
     "output_type": "stream",
     "text": [
      "['Chinna', 'Chinna']\n"
     ]
    }
   ],
   "source": [
    "#23. Write a program to display the company name of Chinna Employee.\n",
    "file_1 = open('nthdata.txt', 'r')\n",
    "data = file_1.read().split(',')\n",
    "words = [i for i in data if 'Chinna' in i]\n",
    "print(words)\n"
   ]
  },
  {
   "cell_type": "code",
   "execution_count": 2,
   "metadata": {},
   "outputs": [
    {
     "name": "stdout",
     "output_type": "stream",
     "text": [
      "INFOSYS,Kohli,Santosh,Venkat,Koti,Prabha,Soumya,Mishra\n",
      "\n"
     ]
    }
   ],
   "source": [
    "#24. Write a program to fetch the 2nd from 3rd line in the line.\n",
    "file_1 = open('nthdata.txt', 'r')\n",
    "data = file_1.readlines()\n",
    "print(data[1])"
   ]
  },
  {
   "cell_type": "code",
   "execution_count": 3,
   "metadata": {},
   "outputs": [
    {
     "name": "stdout",
     "output_type": "stream",
     "text": [
      "W\n",
      "S\n",
      "K\n",
      "R\n",
      "C\n",
      "P\n",
      "A\n",
      "S\n",
      "A\n"
     ]
    }
   ],
   "source": [
    "#25. Write a program to fetch the first character from each word in the 3rd line.\n",
    "file_1 = open('nthdata.txt', 'r')\n",
    "data = file_1.readlines()\n",
    "words = data[2].split(',')\n",
    "for i in words:\n",
    "    print(i[0])"
   ]
  },
  {
   "cell_type": "code",
   "execution_count": 4,
   "metadata": {},
   "outputs": [
    {
     "name": "stdout",
     "output_type": "stream",
     "text": [
      "A C\n",
      "A a\n",
      "C a\n",
      "S a\n",
      "D i\n",
      "V t\n",
      "R t\n",
      "Y h\n",
      "N h\n"
     ]
    }
   ],
   "source": [
    "#26. Write a program to fetch first and last character of each word in the last line.\n",
    "file_1 = open('nthdata.txt', 'r')\n",
    "data = file_1.readlines()\n",
    "words = data[-1].split(',')\n",
    "for i in words:\n",
    "    print(i[0], i[-1])"
   ]
  },
  {
   "cell_type": "code",
   "execution_count": 5,
   "metadata": {},
   "outputs": [
    {
     "name": "stdout",
     "output_type": "stream",
     "text": [
      "NFOSY\n",
      "ohl\n",
      "antos\n",
      "enka\n",
      "ot\n",
      "rabh\n",
      "oumy\n",
      "ishra\n"
     ]
    }
   ],
   "source": [
    "#27. Write a program to fetch all characters(except 1st and last chars) of each word in the 2nd line.\n",
    "file_1 = open('nthdata.txt', 'r')\n",
    "data = file_1.readlines()\n",
    "words = data[1].split(',')\n",
    "for i in words:\n",
    "    print(i[1:-1])"
   ]
  },
  {
   "cell_type": "code",
   "execution_count": 6,
   "metadata": {},
   "outputs": [
    {
     "name": "stdout",
     "output_type": "stream",
     "text": [
      "14\n"
     ]
    }
   ],
   "source": [
    "#28. Write a program to count total number of words which starts with 'S' character.\n",
    "file_1 = open('nthdata.txt', 'r')\n",
    "data = file_1.read().split(',')\n",
    "words = [i for i in data if i[0].lower()=='s']\n",
    "print(len(words))"
   ]
  },
  {
   "cell_type": "code",
   "execution_count": 7,
   "metadata": {},
   "outputs": [
    {
     "name": "stdout",
     "output_type": "stream",
     "text": [
      "{'Dhoni', 'Kohli', 'Venkat', 'Prabha', 'Chinna', 'Satya', 'Rohit', 'Arha'}\n"
     ]
    }
   ],
   "source": [
    "#29. Write a program to fetch all duplicate names in the file.\n",
    "file_1 = open('nthdata.txt', 'r')\n",
    "data = file_1.read().split(',')\n",
    "words = [i for i in data if data.count(i)>1]\n",
    "print(set(words))\n"
   ]
  },
  {
   "cell_type": "code",
   "execution_count": 8,
   "metadata": {},
   "outputs": [
    {
     "name": "stdout",
     "output_type": "stream",
     "text": [
      "{'a': 0, 'e': 0, 'i': 0, 'o': 0, 'u': 0}\n"
     ]
    }
   ],
   "source": [
    "#30. Write a program to count all vowels in the file.(Note: output must be in dict)\n",
    "file_1\n",
    "data = file_1.read()\n",
    "vowels = 'aeiou'\n",
    "res = {}\n",
    "for i in vowels:\n",
    "    res[i] = data.count(i)\n",
    "print(res)\n"
   ]
  },
  {
   "cell_type": "code",
   "execution_count": 9,
   "metadata": {},
   "outputs": [
    {
     "name": "stdout",
     "output_type": "stream",
     "text": [
      "['SCT', 'iaS', 'tihoR', 'aytaS', 'inohD', 'htaraS', 'joraS', 'takneV', 'SYSOFNI\\nsaS', 'ilhoK', 'hsotnaS', 'takneV', 'itoK', 'ahbarP', 'aymuoS', 'ORPIW\\narhsiM', 'aytaS', 'ilhoK', 'maR', 'annihC', 'poP', 'ailemA', 'hseruS', 'STC\\nanujrA', 'ahbarP', 'ahbuS', 'ahbeD', 'ahbaR', 'takneV', 'inohD', 'ayruS', 'HTN\\njoraS', 'anayaraN', 'lihkA', 'ahrA', 'takneV', 'ayvarS', 'aynanA', 'htnaveR', 'CBA\\nahA', 'ahrA', 'annihC', 'aytaS', 'inohD', 'takneV', 'tihoR', 'hsaY', 'hselihkiN']\n"
     ]
    }
   ],
   "source": [
    "#31. Wrtie a program to reverse all words in the file.\n",
    "file_1 = open('nthdata.txt', 'r')\n",
    "data = file_1.read().split(',')\n",
    "res = [i[::-1] for i in data]\n",
    "print(res)\n"
   ]
  },
  {
   "cell_type": "code",
   "execution_count": 10,
   "metadata": {},
   "outputs": [
    {
     "name": "stdout",
     "output_type": "stream",
     "text": [
      "['Satya', 'Sarath', 'Prabha', 'Satya', 'Prabha', 'Rabha', 'Narayana', 'Sravya', 'Ananya', 'Satya']\n"
     ]
    }
   ],
   "source": [
    "#32. Write a program to fetch all words which contains two or more then 'a' characters.\n",
    "file_1 = open('nthdata.txt', 'r')\n",
    "data = file_1.read().split(',')\n",
    "words = [i for i in data if i.count('a')>=2]\n",
    "print(words)"
   ]
  },
  {
   "cell_type": "code",
   "execution_count": 12,
   "metadata": {},
   "outputs": [
    {
     "name": "stdout",
     "output_type": "stream",
     "text": [
      "['Amelia', 'Arha', 'Ananya', 'Arha']\n"
     ]
    }
   ],
   "source": [
    "#33. Write a program to fetch all words which starts and ends with 'a' character\n",
    "file_1 = open('nthdata.txt', 'r')\n",
    "data = file_1.read().split(',')\n",
    "words = [i for i in data if i[0].lower()=='a' and i[-1].lower()=='a']\n",
    "print(words)"
   ]
  },
  {
   "cell_type": "code",
   "execution_count": 13,
   "metadata": {},
   "outputs": [
    {
     "name": "stdout",
     "output_type": "stream",
     "text": [
      "Narayana\n"
     ]
    }
   ],
   "source": [
    "#34. Write a program to fetch word which has more number of 'a' characters.\n",
    "file_1 = open('nthdata.txt', 'r')\n",
    "data = file_1.read().split(',')\n",
    "words = max(data, key=lambda x: x.count('a'))\n",
    "print(words)"
   ]
  },
  {
   "cell_type": "code",
   "execution_count": 14,
   "metadata": {},
   "outputs": [
    {
     "name": "stdout",
     "output_type": "stream",
     "text": [
      "['Amelia', 'Arjuna\\nCTS', 'Akhil', 'Arha', 'Ananya', 'Aha\\nABC', 'Arha']\n"
     ]
    }
   ],
   "source": [
    "#35. Write a program to fetch all company names which starts with vowel.\n",
    "file_1 = open('nthdata.txt', 'r')\n",
    "data = file_1.read().split(',')\n",
    "words = [i for i in data if i[0].lower() in 'aeiou']\n",
    "print(words)"
   ]
  },
  {
   "cell_type": "code",
   "execution_count": 15,
   "metadata": {},
   "outputs": [
    {
     "name": "stdout",
     "output_type": "stream",
     "text": [
      "['Saroj', 'Saroj\\nNTH']\n"
     ]
    }
   ],
   "source": [
    "#36. Write a program to display company name which contains Saroj Employee.\n",
    "file_1 = open('nthdata.txt', 'r')\n",
    "data = file_1.read().split(',')\n",
    "words = [i for i in data if 'Saroj' in i]\n",
    "print(words)\n"
   ]
  },
  {
   "cell_type": "code",
   "execution_count": 16,
   "metadata": {},
   "outputs": [
    {
     "name": "stdout",
     "output_type": "stream",
     "text": [
      "19\n"
     ]
    }
   ],
   "source": [
    "#37. Write a program to count all words which starts and ends with consonants.\n",
    "file_1 = open('nthdata.txt', 'r')\n",
    "data = file_1.read().split(',')\n",
    "words = [i for i in data if i[0].lower() not in 'aeiou' and i[-1].lower() not in 'aeiou']\n",
    "print(len(words))"
   ]
  },
  {
   "cell_type": "code",
   "execution_count": 17,
   "metadata": {},
   "outputs": [
    {
     "name": "stdout",
     "output_type": "stream",
     "text": [
      "['TCS', 'Sai', 'Rohit', 'Satya', 'Dhoni', 'Sarath', 'Saroj', 'Sas\\nINFOSYS', 'Kohli', 'Santosh', 'Koti', 'Prabha', 'Soumya', 'Mishra\\nWIPRO', 'Satya', 'Kohli', 'Ram', 'Chinna', 'Pop', 'Amelia', 'Suresh', 'Arjuna\\nCTS', 'Prabha', 'Subha', 'Debha', 'Rabha', 'Dhoni', 'Surya', 'Saroj\\nNTH', 'Narayana', 'Akhil', 'Arha', 'Sravya', 'Ananya', 'Revanth', 'Aha\\nABC', 'Arha', 'Chinna', 'Satya', 'Dhoni', 'Rohit', 'Yash', 'Nikhilesh']\n"
     ]
    }
   ],
   "source": [
    "#38. Write a program to fetch all company names which does not contain Venkat employee.\n",
    "file_1 = open('nthdata.txt', 'r')\n",
    "data = file_1.read().split(',')\n",
    "words = [i for i in data if 'Venkat' not in i]\n",
    "print(words)\n"
   ]
  },
  {
   "cell_type": "code",
   "execution_count": 18,
   "metadata": {},
   "outputs": [
    {
     "name": "stdout",
     "output_type": "stream",
     "text": [
      "['Narayana']\n"
     ]
    }
   ],
   "source": [
    "#39. Write a program to display company name where Narayana is working.\n",
    "file_1 = open('nthdata.txt', 'r')\n",
    "data = file_1.read().split(',')\n",
    "words = [i for i in data if 'Narayana' in i]\n",
    "print(words)\n"
   ]
  },
  {
   "cell_type": "code",
   "execution_count": 19,
   "metadata": {},
   "outputs": [
    {
     "name": "stdout",
     "output_type": "stream",
     "text": [
      "{'TCS,Sai,Rohit,Satya,Dhoni,Sarath,Saroj,Venkat,Sas\\n': ['TCS', 'Sas\\n'], 'INFOSYS,Kohli,Santosh,Venkat,Koti,Prabha,Soumya,Mishra\\n': ['INFOSYS', 'Mishra\\n'], 'WIPRO,Satya,Kohli,Ram,Chinna,Pop,Amelia,Suresh,Arjuna\\n': ['WIPRO', 'Arjuna\\n'], 'CTS,Prabha,Subha,Debha,Rabha,Venkat,Dhoni,Surya,Saroj\\n': ['CTS', 'Saroj\\n'], 'NTH,Narayana,Akhil,Arha,Venkat,Sravya,Ananya,Revanth,Aha\\n': ['NTH', 'Aha\\n'], 'ABC,Arha,Chinna,Satya,Dhoni,Venkat,Rohit,Yash,Nikhilesh': ['ABC', 'Nikhilesh']}\n"
     ]
    }
   ],
   "source": [
    "#40. Write a program to display the first word and last word from each line in dict format.\n",
    "file_1 = open('nthdata.txt', 'r')\n",
    "data = file_1.readlines()\n",
    "res = {}\n",
    "for i in data:\n",
    "    res[i] = [i.split(',')[0], i.split(',')[-1]]\n",
    "print(res)"
   ]
  },
  {
   "cell_type": "code",
   "execution_count": 20,
   "metadata": {},
   "outputs": [
    {
     "name": "stdout",
     "output_type": "stream",
     "text": [
      "[]\n"
     ]
    }
   ],
   "source": [
    "#41. Write a program to fetch all names whose name starts with 'a' in NTH company.\n",
    "file_1 = open('nthdata.txt', 'r')\n",
    "data = file_1.read().split(',')\n",
    "words = [i for i in data if i.startswith('a') and 'NTH' in i]\n",
    "print(words)"
   ]
  },
  {
   "cell_type": "code",
   "execution_count": 21,
   "metadata": {},
   "outputs": [
    {
     "name": "stdout",
     "output_type": "stream",
     "text": [
      "1\n"
     ]
    }
   ],
   "source": [
    "#42. Write a program to count total number of employees in CTS company.\n",
    "file_1 = open('nthdata.txt', 'r')\n",
    "data = file_1.read().split(',')\n",
    "words = [i for i in data if 'CTS' in i]\n",
    "print(len(words))\n"
   ]
  },
  {
   "cell_type": "code",
   "execution_count": 22,
   "metadata": {},
   "outputs": [
    {
     "name": "stdout",
     "output_type": "stream",
     "text": [
      "['Venkat', 'Venkat', 'Venkat', 'Venkat', 'Venkat']\n"
     ]
    }
   ],
   "source": [
    "#43. Write a program to fetch all companies where Venkat employee is working.\n",
    "file_1 = open('nthdata.txt', 'r')\n",
    "data = file_1.read().split(',')\n",
    "words = [i for i in data if 'Venkat' in i]\n",
    "print(words)\n"
   ]
  },
  {
   "cell_type": "code",
   "execution_count": 23,
   "metadata": {},
   "outputs": [
    {
     "name": "stdout",
     "output_type": "stream",
     "text": [
      "['Amelia', 'Arjuna\\nCTS', 'Akhil', 'Arha', 'Ananya', 'Aha\\nABC', 'Arha']\n"
     ]
    }
   ],
   "source": [
    "#44. Write a program to fetch all companies names which name starts with Vowel.\n",
    "file_1 = open('nthdata.txt', 'r')\n",
    "data = file_1.read().split(',')\n",
    "words = [i for i in data if i[0].lower() in 'aeiou']\n",
    "print(words)\n"
   ]
  },
  {
   "cell_type": "code",
   "execution_count": 24,
   "metadata": {},
   "outputs": [
    {
     "name": "stdout",
     "output_type": "stream",
     "text": [
      "[]\n"
     ]
    }
   ],
   "source": [
    "#45. Write a program to fetch all palindrome names from the file.\n",
    "file_1 = open('nthdata.txt', 'r')\n",
    "data = file_1.read().split(',')\n",
    "words = [i for i in data if i==i[::-1]]\n",
    "print(words)\n"
   ]
  },
  {
   "cell_type": "code",
   "execution_count": 25,
   "metadata": {},
   "outputs": [
    {
     "name": "stdout",
     "output_type": "stream",
     "text": [
      "[]\n"
     ]
    }
   ],
   "source": [
    "#46. Write a program to fetch all companies names where palindrome named employees working.\n",
    "file_1 = open('nthdata.txt', 'r')\n",
    "data = file_1.read().split(',')\n",
    "words = [i for i in data if i==i[::-1]]\n",
    "print(words)"
   ]
  },
  {
   "cell_type": "code",
   "execution_count": 26,
   "metadata": {},
   "outputs": [
    {
     "name": "stdout",
     "output_type": "stream",
     "text": [
      "Mishra\n",
      "WIPRO\n"
     ]
    }
   ],
   "source": [
    "#47. Write a program to fetch the lengthiest company name.\n",
    "file_1 = open('nthdata.txt', 'r')\n",
    "data = file_1.read().split(',')\n",
    "words = max(data, key=len)\n",
    "print(words)\n",
    "    "
   ]
  },
  {
   "cell_type": "code",
   "execution_count": 27,
   "metadata": {},
   "outputs": [
    {
     "name": "stdout",
     "output_type": "stream",
     "text": [
      "Aha\n",
      "ABC\n"
     ]
    }
   ],
   "source": [
    "#48. Write a program to fetch the lengthiest employee name in ABC company.\n",
    "file_1 = open('nthdata.txt', 'r')\n",
    "data = file_1.read().split(',')\n",
    "words = [i for i in data if 'ABC' in i]\n",
    "print(max(words, key=len))\n"
   ]
  },
  {
   "cell_type": "code",
   "execution_count": 28,
   "metadata": {},
   "outputs": [
    {
     "name": "stdout",
     "output_type": "stream",
     "text": [
      "Mishra\n",
      "WIPRO\n"
     ]
    }
   ],
   "source": [
    "#49. Write a program to fetch shortest employee name in the WIPRO company.\n",
    "file_1 = open('nthdata.txt', 'r')\n",
    "data = file_1.read().split(',')\n",
    "words = [i for i in data if 'WIPRO' in i]\n",
    "print(min(words, key=len))"
   ]
  },
  {
   "cell_type": "code",
   "execution_count": 29,
   "metadata": {},
   "outputs": [
    {
     "name": "stdout",
     "output_type": "stream",
     "text": [
      "{'TCS': 1, 'Sai': 1, 'Rohit': 2, 'Satya': 3, 'Dhoni': 3, 'Sarath': 1, 'Saroj': 1, 'Venkat': 5, 'Sas\\nINFOSYS': 1, 'Kohli': 2, 'Santosh': 1, 'Koti': 1, 'Prabha': 2, 'Soumya': 1, 'Mishra\\nWIPRO': 1, 'Ram': 1, 'Chinna': 2, 'Pop': 1, 'Amelia': 1, 'Suresh': 1, 'Arjuna\\nCTS': 1, 'Subha': 1, 'Debha': 1, 'Rabha': 1, 'Surya': 1, 'Saroj\\nNTH': 1, 'Narayana': 1, 'Akhil': 1, 'Arha': 2, 'Sravya': 1, 'Ananya': 1, 'Revanth': 1, 'Aha\\nABC': 1, 'Yash': 1, 'Nikhilesh': 1}\n"
     ]
    }
   ],
   "source": [
    "#50. Write a program count total number of employees in each company(in dict format).\n",
    "file_1 = open('nthdata.txt', 'r')\n",
    "data = file_1.read().split(',')\n",
    "res = {}\n",
    "for i in data:\n",
    "    if i in res:\n",
    "        res[i]+=1\n",
    "    else:\n",
    "        res[i]=1\n",
    "print(res)\n"
   ]
  }
 ],
 "metadata": {
  "kernelspec": {
   "display_name": "Python 3",
   "language": "python",
   "name": "python3"
  },
  "language_info": {
   "codemirror_mode": {
    "name": "ipython",
    "version": 3
   },
   "file_extension": ".py",
   "mimetype": "text/x-python",
   "name": "python",
   "nbconvert_exporter": "python",
   "pygments_lexer": "ipython3",
   "version": "3.13.1"
  }
 },
 "nbformat": 4,
 "nbformat_minor": 2
}
