{
 "cells": [
  {
   "cell_type": "code",
   "execution_count": 33,
   "metadata": {},
   "outputs": [],
   "source": [
    "from selenium import webdriver\n",
    "from selenium.webdriver.common.by import By"
   ]
  },
  {
   "cell_type": "code",
   "execution_count": 34,
   "metadata": {},
   "outputs": [],
   "source": [
    "# Initialize WebDriver\n",
    "driver = webdriver.Chrome()  # Or webdriver.Firefox() if using Firefox"
   ]
  },
  {
   "cell_type": "code",
   "execution_count": 35,
   "metadata": {},
   "outputs": [],
   "source": [
    "# Open the website\n",
    "driver.get(\"https://pythondjango12345.pythonanywhere.com/\")"
   ]
  },
  {
   "cell_type": "code",
   "execution_count": 36,
   "metadata": {},
   "outputs": [],
   "source": [
    "# Locate and click the \"Signup\" button\n",
    "signup_button = driver.find_element(By.XPATH, \"//button[@data-target='#signup']\")\n",
    "signup_button.click()"
   ]
  },
  {
   "cell_type": "code",
   "execution_count": 37,
   "metadata": {},
   "outputs": [],
   "source": [
    "# # Fill out the signup form\n",
    "# username = \"testuser123\"\n",
    "# email = \"testuser123@example.com\"\n",
    "# password = \"Password@123\""
   ]
  },
  {
   "cell_type": "code",
   "execution_count": 38,
   "metadata": {},
   "outputs": [],
   "source": [
    "# Fill out the form fields\n",
    "driver.find_element(By.NAME, \"fname\").send_keys(\"Abhishek\")\n",
    "driver.find_element(By.NAME, \"lname\").send_keys(\"Doe\")\n",
    "driver.find_element(By.NAME, \"username\").send_keys(\"Abc123\")\n",
    "driver.find_element(By.NAME, \"email\").send_keys(\"abc@example.com\")\n",
    "driver.find_element(By.NAME, \"pass1\").send_keys(\"Password@1273\")\n",
    "driver.find_element(By.NAME, \"pass2\").send_keys(\"Password@1273\")"
   ]
  },
  {
   "cell_type": "code",
   "execution_count": 39,
   "metadata": {},
   "outputs": [],
   "source": [
    "# Submit the form\n",
    "submit_button = driver.find_element(By.XPATH, \"//button[@type='submit' and text()='Get Account']\")\n",
    "submit_button.click()"
   ]
  },
  {
   "cell_type": "code",
   "execution_count": 40,
   "metadata": {},
   "outputs": [],
   "source": [
    "# Wait for the page to reload or for the login option to appear\n",
    "driver.implicitly_wait(10)  # Waits up to 10 seconds for elements to load"
   ]
  },
  {
   "cell_type": "code",
   "execution_count": 41,
   "metadata": {},
   "outputs": [],
   "source": [
    "# Locate and click the \"Login\" button to open the login modal\n",
    "login_button = driver.find_element(By.XPATH, \"//button[@data-target='#login']\")\n",
    "login_button.click()"
   ]
  },
  {
   "cell_type": "code",
   "execution_count": 42,
   "metadata": {},
   "outputs": [],
   "source": [
    "# Fill out the login form with the updated element names and IDs\n",
    "driver.find_element(By.NAME, \"loginusername\").send_keys(\"Abhi123\")\n",
    "driver.find_element(By.NAME, \"loginpass\").send_keys(\"Password@1273\")"
   ]
  },
  {
   "cell_type": "code",
   "execution_count": 43,
   "metadata": {},
   "outputs": [],
   "source": [
    "# Submit the login form\n",
    "driver.find_element(By.XPATH, \"//button[@type='submit' and text()='Submit']\").click()"
   ]
  },
  {
   "cell_type": "code",
   "execution_count": 44,
   "metadata": {},
   "outputs": [],
   "source": [
    "dropdown = driver.find_element(By.XPATH, \"//a[@id='navbarDropdown' and contains(text(), 'Welcome Abhi123')]\")\n",
    "dropdown.click()\n",
    "\n",
    "driver.implicitly_wait(2)\n",
    "# Locate the logout option within the dropdown menu and click it\n",
    "logout_option = driver.find_element(By.XPATH, \"//a[text()='Logout']\")\n",
    "logout_option.click()"
   ]
  },
  {
   "cell_type": "code",
   "execution_count": 44,
   "metadata": {},
   "outputs": [
    {
     "name": "stdout",
     "output_type": "stream",
     "text": [
      "Login successful!\n"
     ]
    }
   ],
   "source": [
    "# Verify login\n",
    "if \"Logout\" in driver.page_source:\n",
    "    print(\"Login successful!\")\n",
    "else:\n",
    "    print(\"Login failed.\")"
   ]
  },
  {
   "cell_type": "code",
   "execution_count": 45,
   "metadata": {},
   "outputs": [],
   "source": [
    "# Close the browser\n",
    "driver.quit()"
   ]
  },
  {
   "cell_type": "code",
   "execution_count": null,
   "metadata": {},
   "outputs": [],
   "source": []
  }
 ],
 "metadata": {
  "kernelspec": {
   "display_name": "Python 3",
   "language": "python",
   "name": "python3"
  },
  "language_info": {
   "codemirror_mode": {
    "name": "ipython",
    "version": 3
   },
   "file_extension": ".py",
   "mimetype": "text/x-python",
   "name": "python",
   "nbconvert_exporter": "python",
   "pygments_lexer": "ipython3",
   "version": "3.13.1"
  }
 },
 "nbformat": 4,
 "nbformat_minor": 2
}
