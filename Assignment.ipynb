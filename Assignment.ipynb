{
 "cells": [
  {
   "cell_type": "code",
   "execution_count": 1,
   "id": "dd18f692-7977-4736-b44a-1159f6deffc6",
   "metadata": {},
   "outputs": [
    {
     "name": "stdout",
     "output_type": "stream",
     "text": [
      "[10, 14, 8]\n"
     ]
    }
   ],
   "source": [
    "#1. Write a program to fetch all even numbers from list.\n",
    "lst = [10, 11, 13, 14, 9, 8]\n",
    "res = [i for i in lst if i%2==0]\n",
    "print(res)\n"
   ]
  },
  {
   "cell_type": "code",
   "execution_count": 3,
   "id": "d46f40e9-55d9-470d-89cd-1fb81c61c1c9",
   "metadata": {},
   "outputs": [
    {
     "name": "stdout",
     "output_type": "stream",
     "text": [
      "['a', 'b']\n"
     ]
    }
   ],
   "source": [
    "#2. Write a program to fetch all the string values from list.\n",
    "lst = [10, 'a', True, 'b', False]\n",
    "res = [i for i in lst if type(i) is str]\n",
    "print(res)\n"
   ]
  },
  {
   "cell_type": "code",
   "execution_count": 4,
   "id": "5eb7f336-f3a8-4ece-bd32-c31b875c1634",
   "metadata": {},
   "outputs": [
    {
     "name": "stdout",
     "output_type": "stream",
     "text": [
      "[15, 20, 5]\n"
     ]
    }
   ],
   "source": [
    "#3. Write a program to fetch all numbers divisible by 5 from list.\n",
    "lst = [12, 15, 27, 20, 5]\n",
    "res = [i for i in lst if i%5 == 0]\n",
    "print(res)\n"
   ]
  },
  {
   "cell_type": "code",
   "execution_count": 9,
   "id": "e6310ac0-46a2-451b-99f0-da4a11c53292",
   "metadata": {},
   "outputs": [
    {
     "name": "stdout",
     "output_type": "stream",
     "text": [
      "4\n"
     ]
    }
   ],
   "source": [
    "#4. Write a program to count total number of int values in the list.\n",
    "lst = [10, 'a', 20, True, 30, 'b', 40]\n",
    "res = [i for i in lst if type(i) is int]\n",
    "print(len(res))"
   ]
  },
  {
   "cell_type": "code",
   "execution_count": 10,
   "id": "2555e5f4-d9a2-45fd-8c5b-2a3aa7da5dbd",
   "metadata": {},
   "outputs": [
    {
     "name": "stdout",
     "output_type": "stream",
     "text": [
      "15\n"
     ]
    }
   ],
   "source": [
    "#5. Write a program to count total number of characters in the string(including space).\n",
    "st = 'Python Language'\n",
    "res = len(st)\n",
    "print(res)\n"
   ]
  },
  {
   "cell_type": "code",
   "execution_count": 12,
   "id": "dbb38e6a-5876-4a4c-9bff-d0e3da74438f",
   "metadata": {},
   "outputs": [
    {
     "name": "stdout",
     "output_type": "stream",
     "text": [
      "5\n"
     ]
    }
   ],
   "source": [
    "#6. Write a program to count total number of words in the string.\n",
    "st = 'Python narayana tech house hyd'\n",
    "res = len(st.split())\n",
    "print(res)"
   ]
  },
  {
   "cell_type": "code",
   "execution_count": 9,
   "id": "34f96180-1997-4103-a0fb-fdd367ef3f78",
   "metadata": {},
   "outputs": [
    {
     "name": "stdout",
     "output_type": "stream",
     "text": [
      "['o', 'a', 'u', 'a', 'e']\n"
     ]
    }
   ],
   "source": [
    "#7. Write a program to fetch all vowels from the string.\n",
    "st = 'Python Language'\n",
    "res = [i for i in st if i in 'AaEeIiOoUu']\n",
    "print(res)"
   ]
  },
  {
   "cell_type": "code",
   "execution_count": 10,
   "id": "7e8b1b97-3939-4282-9174-6829598be5dd",
   "metadata": {},
   "outputs": [
    {
     "name": "stdout",
     "output_type": "stream",
     "text": [
      "5\n"
     ]
    }
   ],
   "source": [
    "#8 Write a program to count total number of vowels\n",
    "st = \"python narayana\"\n",
    "res = [i for i in st if i in 'AaEeIiOoUu']\n",
    "print(len(res))"
   ]
  },
  {
   "cell_type": "code",
   "execution_count": 29,
   "id": "70267693-2387-4561-be9a-1c48a81935f0",
   "metadata": {},
   "outputs": [
    {
     "name": "stdout",
     "output_type": "stream",
     "text": [
      "23\n"
     ]
    }
   ],
   "source": [
    "#9 Write a program to count total number of characters in the string(excluding space).\n",
    "st = 'python is a simple language'\n",
    "res = sum([len(i) for i in st if i!=' '])\n",
    "print(res)\n"
   ]
  },
  {
   "cell_type": "code",
   "execution_count": 32,
   "id": "7872eca5-d1f9-49bf-a20b-eec1ef384e03",
   "metadata": {},
   "outputs": [
    {
     "name": "stdout",
     "output_type": "stream",
     "text": [
      "10\n"
     ]
    }
   ],
   "source": [
    "#10 Write a program to count total number of consonants in the string.\n",
    "st = 'Python Language'\n",
    "res = [i for i in st if i not in 'aeiouAEIOU']\n",
    "print(len(res))"
   ]
  },
  {
   "cell_type": "code",
   "execution_count": 39,
   "id": "c9b12359-afce-474d-b984-eaa0468fc859",
   "metadata": {},
   "outputs": [
    {
     "name": "stdout",
     "output_type": "stream",
     "text": [
      "['is', 'and', 'easy']\n"
     ]
    }
   ],
   "source": [
    "#11. Write a program to fetch all words which starts with vowel from given string\n",
    "st = 'Python is simple and easy language'\n",
    "res = [i for i in st.split() if i[0] in 'aeiouAEIOU']\n",
    "print(res)"
   ]
  },
  {
   "cell_type": "code",
   "execution_count": 43,
   "id": "718beb6d-d1a4-44ae-90eb-5f0224629fb9",
   "metadata": {},
   "outputs": [
    {
     "name": "stdout",
     "output_type": "stream",
     "text": [
      "['Python', 'is', 'and', 'easy']\n"
     ]
    }
   ],
   "source": [
    "#12. Write a program to fetch all words which ends with consonent in the given string.\n",
    "st = 'Python is simple and easy language'\n",
    "res = [i for i in st.split() if i[-1] not in 'aeiouAEIOU']\n",
    "print(res)"
   ]
  },
  {
   "cell_type": "code",
   "execution_count": 47,
   "id": "498612db-7f7d-44b5-bdb1-c4bfd87b5842",
   "metadata": {},
   "outputs": [
    {
     "name": "stdout",
     "output_type": "stream",
     "text": [
      "['language']\n"
     ]
    }
   ],
   "source": [
    "#13. Write a program  to fetch all words in which 'a' comes two or more then two times.\n",
    "st = 'Python is simple and easy language'\n",
    "res = [i for i in st.split() if i.count('a')>=2]\n",
    "print(res)"
   ]
  },
  {
   "cell_type": "code",
   "execution_count": 54,
   "id": "c9a54f7b-3a68-41bd-b9a3-ddd5401af7f5",
   "metadata": {},
   "outputs": [
    {
     "name": "stdout",
     "output_type": "stream",
     "text": [
      "[6, 2, 6, 3, 4, 8]\n"
     ]
    }
   ],
   "source": [
    "#14. Write a program to count number of characters of each word in the string.\n",
    "st = 'Python is simple and easy language'\n",
    "res = [ len(i) for i in st.split()]\n",
    "print(res)"
   ]
  },
  {
   "cell_type": "code",
   "execution_count": 61,
   "id": "6851834e-d712-41b2-b70c-e0aaa8143cf2",
   "metadata": {},
   "outputs": [
    {
     "name": "stdout",
     "output_type": "stream",
     "text": [
      "['Pn', 'is', 'se', 'ad', 'ey', 'le']\n"
     ]
    }
   ],
   "source": [
    "#15. Write a program to fetch the first and last character from each word in the string.\n",
    "st = 'Python is simple and easy language'\n",
    "res = [i[0]+i[-1] for i in st.split()]\n",
    "print(res)"
   ]
  },
  {
   "cell_type": "code",
   "execution_count": 64,
   "id": "841d58ca-19ef-4b35-aae7-50e5a1723cbb",
   "metadata": {},
   "outputs": [
    {
     "name": "stdout",
     "output_type": "stream",
     "text": [
      "['and', 'easy', 'language']\n"
     ]
    }
   ],
   "source": [
    "#16. Write a program to fetch all words which contains 'a' character in the string.\n",
    "st = 'Python is simple and easy language'\n",
    "res = [i for i in st.split() if 'a' in i]\n",
    "print(res)"
   ]
  },
  {
   "cell_type": "code",
   "execution_count": 65,
   "id": "5312ec7d-e325-4709-9bf7-d2cf143a1800",
   "metadata": {},
   "outputs": [
    {
     "name": "stdout",
     "output_type": "stream",
     "text": [
      "['Python', 'is', 'and']\n"
     ]
    }
   ],
   "source": [
    "#17. Write a program to fetch all words which does not contain 'e' character in string.\n",
    "st = 'Python is simple and easy language'\n",
    "res = [i for i in st.split() if 'e' not in i]\n",
    "print(res)"
   ]
  },
  {
   "cell_type": "code",
   "execution_count": 71,
   "id": "a36f7a06-cade-4cea-a86c-746eef2b1c9a",
   "metadata": {},
   "outputs": [
    {
     "name": "stdout",
     "output_type": "stream",
     "text": [
      "['is', 'and', 'easy']\n"
     ]
    }
   ],
   "source": [
    "#18. Write a program to fetch all words which contains only  4 or less then 4 characters.\n",
    "st = 'Python is simple and easy language'\n",
    "res = [i for i in st.split() if len(i)<= 4]\n",
    "print(res)"
   ]
  },
  {
   "cell_type": "code",
   "execution_count": 76,
   "id": "d2775da1-0f27-440d-9b54-24a2b6acbd67",
   "metadata": {},
   "outputs": [
    {
     "name": "stdout",
     "output_type": "stream",
     "text": [
      "['and']\n"
     ]
    }
   ],
   "source": [
    "#19. write a program to fetch all words which contain odd number of characters in the string.\n",
    "st = 'Python is simple and easy language'\n",
    "res = [i for i in st.split() if len(i)%2 != 0]\n",
    "print(res)"
   ]
  },
  {
   "cell_type": "code",
   "execution_count": 92,
   "id": "257a280b-f13d-4664-bb13-4b1f8e4f9d12",
   "metadata": {},
   "outputs": [
    {
     "name": "stdout",
     "output_type": "stream",
     "text": [
      "['one']\n"
     ]
    }
   ],
   "source": [
    "#20. Write a program to fetch all words which starts and ends with vowel in the string.\n",
    "st = 'Python is number one language'\n",
    "res = [i for i in st.split() if i[0] in 'aeiouAEIOU' and i[-1] in 'aeiouAEIOU']\n",
    "print(res)"
   ]
  },
  {
   "cell_type": "code",
   "execution_count": 1,
   "id": "b09bbca9-6bca-4f16-9e8d-6eb0ee4c5278",
   "metadata": {},
   "outputs": [
    {
     "name": "stdout",
     "output_type": "stream",
     "text": [
      "['madam', 'dad', 'eye', 'malayalam']\n"
     ]
    }
   ],
   "source": [
    "#21.Write a program to fetch all palindrome words from list.\n",
    "names = ['madam', 'python', 'dad', 'language', 'eye', 'malayalam']\n",
    "# res = [i for i in names if i[0] == i[-1]]\n",
    "res = [i for i in names if i == i[::-1]]\n",
    "print(res)"
   ]
  },
  {
   "cell_type": "code",
   "execution_count": 95,
   "id": "326e0e84-f8ca-4573-8eeb-dd0301180cdf",
   "metadata": {},
   "outputs": [
    {
     "name": "stdout",
     "output_type": "stream",
     "text": [
      "['python', 'language']\n"
     ]
    }
   ],
   "source": [
    "#22. Write a program to fetch all non-palindrome words from list.\n",
    "names = ['madam', 'python', 'dad', 'language', 'eye', 'malayalam']\n",
    "res = [i for i in names if i[0] != i[-1]]\n",
    "print(res)"
   ]
  },
  {
   "cell_type": "code",
   "execution_count": 97,
   "id": "1e4c94b8-8630-46cb-9f6d-da7da7c22206",
   "metadata": {},
   "outputs": [
    {
     "name": "stdout",
     "output_type": "stream",
     "text": [
      "['madam', 'malayalam']\n"
     ]
    }
   ],
   "source": [
    "#23. Write a program to fetch all palindrome words which starts with 'm' character.\n",
    "names = ['madam', 'python', 'dad', 'language', 'eye', 'malayalam']\n",
    "res = [i for i in names if i[0] == i[-1] and i[0] == 'm']\n",
    "print(res)"
   ]
  },
  {
   "cell_type": "code",
   "execution_count": 99,
   "id": "59a4a451-2d0c-43db-9c96-79287f1b449c",
   "metadata": {},
   "outputs": [
    {
     "name": "stdout",
     "output_type": "stream",
     "text": [
      "['madam', 'malayalam']\n"
     ]
    }
   ],
   "source": [
    "#24. Write a program to fetch all palindrome words with more then 3 characters.\n",
    "names = ['madam', 'python', 'dad', 'language', 'eye', 'malayalam']\n",
    "res = [i for i in names if i[0] == i[-1] and len(i)>3]\n",
    "print(res)"
   ]
  },
  {
   "cell_type": "code",
   "execution_count": 1,
   "id": "023b6496-3bef-4f6a-b046-c94620272c2e",
   "metadata": {},
   "outputs": [
    {
     "name": "stdout",
     "output_type": "stream",
     "text": [
      "malayalam\n"
     ]
    }
   ],
   "source": [
    "#25. Write a program to fetch longest palindrome word.\n",
    "names = names = ['madam', 'python', 'dad', 'language', 'eye', 'malayalam']\n",
    "res = max([i for i in names if i == i[::-1] ])\n",
    "print(res)\n"
   ]
  },
  {
   "cell_type": "code",
   "execution_count": 11,
   "id": "6c2bdb07-e409-4a76-9157-dc05aca94b52",
   "metadata": {},
   "outputs": [
    {
     "name": "stdout",
     "output_type": "stream",
     "text": [
      "400\n"
     ]
    }
   ],
   "source": [
    "# Write a program to find the highest number of list elements.\n",
    "lst = [10, 12, 5, 100, 13, 17, 300, 17, 200, 120, 400]\n",
    "max = 0\n",
    "for i in lst:\n",
    "    if i>max:\n",
    "        max = i\n",
    "print(max)"
   ]
  },
  {
   "cell_type": "code",
   "execution_count": 5,
   "id": "e7bf8f0f",
   "metadata": {},
   "outputs": [
    {
     "ename": "SyntaxError",
     "evalue": "invalid syntax (4291526084.py, line 1)",
     "output_type": "error",
     "traceback": [
      "\u001b[1;36m  Cell \u001b[1;32mIn[5], line 1\u001b[1;36m\u001b[0m\n\u001b[1;33m    res = [i for i in range(21) while i%2 == 0]\u001b[0m\n\u001b[1;37m                                ^\u001b[0m\n\u001b[1;31mSyntaxError\u001b[0m\u001b[1;31m:\u001b[0m invalid syntax\n"
     ]
    }
   ],
   "source": [
    "res = [i for i in range(21) while i%2 == 0]\n",
    "print(res)"
   ]
  },
  {
   "cell_type": "code",
   "execution_count": null,
   "id": "609d9177",
   "metadata": {},
   "outputs": [],
   "source": []
  },
  {
   "cell_type": "code",
   "execution_count": null,
   "id": "4c94ad05",
   "metadata": {},
   "outputs": [],
   "source": []
  },
  {
   "cell_type": "code",
   "execution_count": null,
   "id": "e32d11a9",
   "metadata": {},
   "outputs": [],
   "source": []
  },
  {
   "cell_type": "code",
   "execution_count": null,
   "id": "2206df18",
   "metadata": {},
   "outputs": [],
   "source": []
  },
  {
   "cell_type": "code",
   "execution_count": null,
   "id": "b56a26aa",
   "metadata": {},
   "outputs": [],
   "source": []
  },
  {
   "cell_type": "code",
   "execution_count": null,
   "id": "46405ad7",
   "metadata": {},
   "outputs": [],
   "source": []
  }
 ],
 "metadata": {
  "kernelspec": {
   "display_name": "Python 3",
   "language": "python",
   "name": "python3"
  },
  "language_info": {
   "codemirror_mode": {
    "name": "ipython",
    "version": 3
   },
   "file_extension": ".py",
   "mimetype": "text/x-python",
   "name": "python",
   "nbconvert_exporter": "python",
   "pygments_lexer": "ipython3",
   "version": "3.13.1"
  }
 },
 "nbformat": 4,
 "nbformat_minor": 5
}
