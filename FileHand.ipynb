{
 "cells": [
  {
   "cell_type": "markdown",
   "metadata": {},
   "source": [
    "1. Write a program to fetch all data from the file."
   ]
  },
  {
   "cell_type": "code",
   "execution_count": 18,
   "metadata": {},
   "outputs": [
    {
     "name": "stdout",
     "output_type": "stream",
     "text": [
      "TCS,Sai,Rohit,Satya,Dhoni,Sarath,Saroj,Venkat,Sas\n",
      "INFOSYS,Kohli,Santosh,Venkat,Koti,Prabha,Soumya,Mishra\n",
      "WIPRO,Satya,Kohli,Ram,Chinna,Pop,Amelia,Suresh,Arjuna\n",
      "CTS,Prabha,Subha,Debha,Rabha,Venkat,Dhoni,Surya,Saroj\n",
      "NTH,Narayana,Akhil,Arha,Venkat,Sravya,Ananya,Revanth,Aha\n",
      "ABC,Arha,Chinna,Satya,Dhoni,Venkat,Rohit,Yash,Nikhilesh\n",
      "<_io.TextIOWrapper name='nthdata.txt' mode='r' encoding='cp1252'>\n"
     ]
    }
   ],
   "source": [
    "a= open('nthdata.txt', 'r')\n",
    "b= a.read()\n",
    "print(b)\n",
    "print(a)"
   ]
  },
  {
   "cell_type": "markdown",
   "metadata": {},
   "source": [
    "2. Write a program to read the first line from the file."
   ]
  },
  {
   "cell_type": "code",
   "execution_count": 43,
   "metadata": {},
   "outputs": [
    {
     "name": "stdout",
     "output_type": "stream",
     "text": [
      "TCS,Sai,Rohit,Satya,Dhoni,Sarath,Saroj,Venkat,Sas\n",
      "\n"
     ]
    }
   ],
   "source": [
    "a=open('nthdata.txt',\"r\")\n",
    "b=a.readline()\n",
    "print(b)"
   ]
  },
  {
   "cell_type": "markdown",
   "metadata": {},
   "source": [
    "3. Write a program to read the last line from the file."
   ]
  },
  {
   "cell_type": "code",
   "execution_count": 16,
   "metadata": {},
   "outputs": [
    {
     "name": "stdout",
     "output_type": "stream",
     "text": [
      "ABC,Arha,Chinna,Satya,Dhoni,Venkat,Rohit,Yash,Nikhilesh\n"
     ]
    }
   ],
   "source": [
    "a=open(\"nthdata.txt\",\"r\")\n",
    "b=a.readlines()\n",
    "c=b[-1]\n",
    "print(c)"
   ]
  },
  {
   "cell_type": "markdown",
   "metadata": {},
   "source": [
    "4. Write a program to read the 3rd line from file"
   ]
  },
  {
   "cell_type": "code",
   "execution_count": 23,
   "metadata": {},
   "outputs": [
    {
     "name": "stdout",
     "output_type": "stream",
     "text": [
      "WIPRO,Satya,Kohli,Ram,Chinna,Pop,Amelia,Suresh,Arjuna\n",
      "\n"
     ]
    }
   ],
   "source": [
    "a=open(\"nthdata.txt\",\"r\")\n",
    "b=a.readlines()\n",
    "print(b[2])"
   ]
  },
  {
   "cell_type": "markdown",
   "metadata": {},
   "source": [
    "5. Write a program to count total number of characters in the file?"
   ]
  },
  {
   "cell_type": "code",
   "execution_count": 26,
   "metadata": {},
   "outputs": [
    {
     "name": "stdout",
     "output_type": "stream",
     "text": [
      "325\n"
     ]
    }
   ],
   "source": [
    "a=open(\"nthdata.txt\",\"r\")\n",
    "b=a.read()\n",
    "print(len(b))"
   ]
  },
  {
   "cell_type": "markdown",
   "metadata": {},
   "source": [
    "6. Write a program to count total number of commas in the file?"
   ]
  },
  {
   "cell_type": "code",
   "execution_count": 27,
   "metadata": {},
   "outputs": [
    {
     "name": "stdout",
     "output_type": "stream",
     "text": [
      "47\n"
     ]
    }
   ],
   "source": [
    "a=open(\"nthdata.txt\",\"r\")\n",
    "b=a.read()\n",
    "print(b.count(\",\"))"
   ]
  },
  {
   "cell_type": "markdown",
   "metadata": {},
   "source": [
    "7. Write a program to count total number of words in the first line?"
   ]
  },
  {
   "cell_type": "code",
   "execution_count": 34,
   "metadata": {},
   "outputs": [
    {
     "name": "stdout",
     "output_type": "stream",
     "text": [
      "50\n"
     ]
    }
   ],
   "source": [
    "a=open(\"nthdata.txt\",\"r\")\n",
    "b=a.readline()\n",
    "print(len(b))"
   ]
  },
  {
   "cell_type": "markdown",
   "metadata": {},
   "source": [
    "8. Write a program to count total number of lines in the file?"
   ]
  },
  {
   "cell_type": "code",
   "execution_count": 36,
   "metadata": {},
   "outputs": [
    {
     "name": "stdout",
     "output_type": "stream",
     "text": [
      "6\n"
     ]
    }
   ],
   "source": [
    "a=open(\"nthdata.txt\",\"r\")\n",
    "b=a.readlines()\n",
    "print(len(b))"
   ]
  },
  {
   "cell_type": "markdown",
   "metadata": {},
   "source": [
    "9. Write a program to count total number of 'Sai' name in the file?"
   ]
  },
  {
   "cell_type": "code",
   "execution_count": 45,
   "metadata": {},
   "outputs": [
    {
     "name": "stdout",
     "output_type": "stream",
     "text": [
      "1\n"
     ]
    }
   ],
   "source": [
    "a=open(\"nthdata.txt\",\"r\")\n",
    "b=a.read()\n",
    "print(b.count(\"Sai\"))"
   ]
  },
  {
   "cell_type": "markdown",
   "metadata": {},
   "source": [
    "10. Write a program to fetch the first word from each line in the file?"
   ]
  },
  {
   "cell_type": "code",
   "execution_count": 54,
   "metadata": {},
   "outputs": [
    {
     "name": "stdout",
     "output_type": "stream",
     "text": [
      "TCS\n",
      "INFOSYS\n",
      "WIPRO\n",
      "CTS\n",
      "NTH\n",
      "ABC\n"
     ]
    }
   ],
   "source": [
    "a=open(\"nthdata.txt\",\"r\")\n",
    "b=a.readlines()\n",
    "for i in b:\n",
    "    print(i.split(',')[0])"
   ]
  },
  {
   "cell_type": "markdown",
   "metadata": {},
   "source": [
    "11. Write a program to fetch the last word from each line?"
   ]
  },
  {
   "cell_type": "code",
   "execution_count": 56,
   "metadata": {},
   "outputs": [
    {
     "name": "stdout",
     "output_type": "stream",
     "text": [
      "Sas\n",
      "\n",
      "Mishra\n",
      "\n",
      "Arjuna\n",
      "\n",
      "Saroj\n",
      "\n",
      "Aha\n",
      "\n",
      "Nikhilesh\n"
     ]
    }
   ],
   "source": [
    "a=open(\"nthdata.txt\",\"r\")\n",
    "b=a.readlines()\n",
    "for i in b:\n",
    "    print(i.split(',')[-1])"
   ]
  },
  {
   "cell_type": "markdown",
   "metadata": {},
   "source": [
    "12. Write a program to fetch all words which starts with 'a' Character?"
   ]
  },
  {
   "cell_type": "code",
   "execution_count": 62,
   "metadata": {},
   "outputs": [
    {
     "name": "stdout",
     "output_type": "stream",
     "text": [
      "['Amelia', 'Arjuna\\nCTS', 'Akhil', 'Arha', 'Ananya', 'Aha\\nABC', 'Arha']\n"
     ]
    }
   ],
   "source": [
    "a=open(\"nthdata.txt\",\"r\")\n",
    "b=a.read().split(\",\")\n",
    "c = [i for i in b if i.lower().startswith('a')]\n",
    "print(c)\n"
   ]
  },
  {
   "cell_type": "markdown",
   "metadata": {},
   "source": [
    "13. Write a program to fetch all words which ends with an vowel?"
   ]
  },
  {
   "cell_type": "code",
   "execution_count": 1,
   "metadata": {},
   "outputs": [
    {
     "name": "stdout",
     "output_type": "stream",
     "text": [
      "['Sai', 'Satya', 'Sarath', 'Saroj', 'Sas\\nINFOSYS', 'Santosh', 'Soumya', 'Satya', 'Suresh', 'Subha', 'Surya', 'Saroj\\nNTH', 'Sravya', 'Satya']\n"
     ]
    }
   ],
   "source": [
    "a=open(\"nthdata.txt\",\"r\")       \n",
    "b=a.read().split(\",\")\n",
    "c=[i for i in b if i.lower().startswith('s')]\n",
    "print(c)\n",
    "\n"
   ]
  },
  {
   "cell_type": "markdown",
   "metadata": {},
   "source": [
    "14. Write a program to fetch all words which has either 'a' or 'i' characters in the file?"
   ]
  },
  {
   "cell_type": "code",
   "execution_count": 5,
   "metadata": {},
   "outputs": [
    {
     "name": "stdout",
     "output_type": "stream",
     "text": [
      "['Sai', 'Rohit', 'Satya', 'Dhoni', 'Sarath', 'Saroj', 'Venkat', 'Sas\\nINFOSYS', 'Kohli', 'Santosh', 'Venkat', 'Koti', 'Prabha', 'Soumya', 'Mishra\\nWIPRO', 'Satya', 'Kohli', 'Ram', 'Chinna', 'Amelia', 'Arjuna\\nCTS', 'Prabha', 'Subha', 'Debha', 'Rabha', 'Venkat', 'Dhoni', 'Surya', 'Saroj\\nNTH', 'Narayana', 'Akhil', 'Arha', 'Venkat', 'Sravya', 'Ananya', 'Revanth', 'Aha\\nABC', 'Arha', 'Chinna', 'Satya', 'Dhoni', 'Venkat', 'Rohit', 'Yash', 'Nikhilesh']\n"
     ]
    }
   ],
   "source": [
    "#14. Write a program to fetch all words which has either 'a' or 'i' characters in the file?\n",
    "a=open(\"nthdata.txt\",\"r\")\n",
    "b=a.read().split(\",\")\n",
    "c=[i for i in b if 'a' in i or 'i' in i]\n",
    "print(c)\n"
   ]
  },
  {
   "cell_type": "markdown",
   "metadata": {},
   "source": [
    "15. Write a program to fetch all words which contains only 5 characters in the file?"
   ]
  },
  {
   "cell_type": "code",
   "execution_count": 6,
   "metadata": {},
   "outputs": [
    {
     "name": "stdout",
     "output_type": "stream",
     "text": [
      "['Rohit', 'Satya', 'Dhoni', 'Saroj', 'Kohli', 'Satya', 'Kohli', 'Subha', 'Debha', 'Rabha', 'Dhoni', 'Surya', 'Akhil', 'Satya', 'Dhoni', 'Rohit']\n"
     ]
    }
   ],
   "source": [
    "#15. Write a program to fetch all words which contains only 5 characters in the file?\n",
    "a=open(\"nthdata.txt\",\"r\")\n",
    "b=a.read().split(\",\")\n",
    "c=[i for i in b if len(i)==5]\n",
    "print(c)\n"
   ]
  },
  {
   "cell_type": "code",
   "execution_count": 7,
   "metadata": {},
   "outputs": [
    {
     "name": "stdout",
     "output_type": "stream",
     "text": [
      "['TCS', 'Akhil']\n"
     ]
    }
   ],
   "source": [
    "#16. Write a program to fetch all words which does not contains vowels except i in the file?\n",
    "a=open(\"nthdata.txt\",\"r\")\n",
    "b=a.read().split(\",\")\n",
    "c=[i for i in b if 'a' not in i and 'e' not in i and 'o' not in i and 'u' not in i]\n",
    "print(c)\n"
   ]
  },
  {
   "cell_type": "markdown",
   "metadata": {},
   "source": [
    "45. Write a program to fetch all palindrome names from the file?"
   ]
  },
  {
   "cell_type": "code",
   "execution_count": 9,
   "metadata": {},
   "outputs": [
    {
     "name": "stdout",
     "output_type": "stream",
     "text": [
      "[]\n"
     ]
    }
   ],
   "source": [
    " #45. Write a program to fetch all palindrome names from the file?\n",
    "a=open(\"nthdata.txt\",\"r\")\n",
    "b=a.read().split(\",\")\n",
    "c=[i for i in b if i==i[::-1]]\n",
    "print(c)\n"
   ]
  },
  {
   "cell_type": "code",
   "execution_count": null,
   "metadata": {},
   "outputs": [],
   "source": []
  }
 ],
 "metadata": {
  "kernelspec": {
   "display_name": "Python 3",
   "language": "python",
   "name": "python3"
  },
  "language_info": {
   "codemirror_mode": {
    "name": "ipython",
    "version": 3
   },
   "file_extension": ".py",
   "mimetype": "text/x-python",
   "name": "python",
   "nbconvert_exporter": "python",
   "pygments_lexer": "ipython3",
   "version": "3.13.1"
  }
 },
 "nbformat": 4,
 "nbformat_minor": 2
}
