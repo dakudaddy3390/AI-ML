{
 "cells": [
  {
   "cell_type": "code",
   "execution_count": 6,
   "metadata": {},
   "outputs": [
    {
     "data": {
      "text/plain": [
       "'range() : to genrate some sequence of numbers.\\nsyntax of range\\n1 range (stop) # with one argument\\n2 range(start, stop)#with two argument.\\n3 range(start,stop,step)#eith three argument.\\nnote 1= start.valuse and stepsize is optionel.\\nstop.valuse is mandatry by defult value of start.valuse 0 and step_size 1\\nnote 2= if stepsize is +ve then end -1. end se ek - hp jayga \\nif stepsize is -ve then end +1. end m ek + ho jayga '"
      ]
     },
     "execution_count": 6,
     "metadata": {},
     "output_type": "execute_result"
    }
   ],
   "source": [
    "\"\"\"range() : to genrate some sequence of numbers.\n",
    "syntax of range\n",
    "1 range (stop) # with one argument\n",
    "2 range(start, stop)#with two argument.\n",
    "3 range(start,stop,step)#eith three argument.\n",
    "note 1= start.valuse and stepsize is optionel.\n",
    "stop.valuse is mandatry by defult value of start.valuse 0 and step_size 1\n",
    "note 2= if stepsize is +ve then end -1. end se ek - hp jayga \n",
    "if stepsize is -ve then end +1. end m ek + ho jayga \"\"\"\n"
   ]
  },
  {
   "cell_type": "code",
   "execution_count": 1,
   "metadata": {},
   "outputs": [
    {
     "name": "stdout",
     "output_type": "stream",
     "text": [
      "0\n",
      "1\n",
      "2\n",
      "3\n",
      "4\n",
      "5\n",
      "6\n",
      "7\n",
      "8\n",
      "9\n"
     ]
    }
   ],
   "source": [
    "#single Argument\n",
    "for i in range(10):\n",
    "    print(i)"
   ]
  },
  {
   "cell_type": "code",
   "execution_count": 4,
   "metadata": {},
   "outputs": [
    {
     "name": "stdout",
     "output_type": "stream",
     "text": [
      "25\n",
      "23\n",
      "21\n",
      "19\n",
      "17\n",
      "15\n",
      "13\n",
      "11\n",
      "9\n",
      "7\n",
      "5\n",
      "3\n"
     ]
    }
   ],
   "source": [
    "#three argument\n",
    "for i in range (25,2,-2):\n",
    "    print(i)"
   ]
  },
  {
   "cell_type": "code",
   "execution_count": 5,
   "metadata": {},
   "outputs": [
    {
     "name": "stdout",
     "output_type": "stream",
     "text": [
      "5\n",
      "6\n",
      "7\n",
      "8\n",
      "9\n",
      "10\n",
      "11\n",
      "12\n",
      "13\n",
      "14\n",
      "15\n",
      "16\n",
      "17\n",
      "18\n",
      "19\n"
     ]
    }
   ],
   "source": [
    "# two argumrnt \n",
    " for i in range(5,20):\n",
    "    print(i)"
   ]
  },
  {
   "cell_type": "code",
   "execution_count": 8,
   "metadata": {},
   "outputs": [
    {
     "data": {
      "text/plain": [
       "' slicing : if you to feath a group of characterthen we used slicing\\n    syntex:\\n          string  [start:end:stepsize]\\n         list    [start:end:stepsize]\\n         tuple    [star:end:stepsize]\\n         start value is optional defult valuse is 0.\\n         stop valuse is optional default value is leng of (string, list.tuples)\\n         stepsizeis optional bydefult stepsize is 1.\\n         if all are optional then what is defult value'"
      ]
     },
     "execution_count": 8,
     "metadata": {},
     "output_type": "execute_result"
    }
   ],
   "source": [
    "\"\"\" slicing : if you to feath a group of characterthen we used slicing\n",
    "    syntex:\n",
    "          string  [start:end:stepsize]\n",
    "         list    [start:end:stepsize]\n",
    "         tuple    [star:end:stepsize]\n",
    "         start value is optional defult valuse is 0.\n",
    "         stop valuse is optional default value is leng of (string, list.tuples)\n",
    "         stepsizeis optional bydefult stepsize is 1.\n",
    "         if all are optional then what is defult value \n",
    "         if  step is +ve end -1.\n",
    "         if step is -ve end with +1\"\"\""
   ]
  },
  {
   "cell_type": "code",
   "execution_count": 15,
   "metadata": {},
   "outputs": [
    {
     "data": {
      "text/plain": [
       "'def'"
      ]
     },
     "execution_count": 15,
     "metadata": {},
     "output_type": "execute_result"
    }
   ],
   "source": [
    "#slicing example\n",
    "s='abcdefghijklmn'\n",
    "s[3:6]"
   ]
  },
  {
   "cell_type": "code",
   "execution_count": 16,
   "metadata": {},
   "outputs": [
    {
     "data": {
      "text/plain": [
       "'abc'"
      ]
     },
     "execution_count": 16,
     "metadata": {},
     "output_type": "execute_result"
    }
   ],
   "source": [
    "s[:3]"
   ]
  },
  {
   "cell_type": "code",
   "execution_count": 18,
   "metadata": {},
   "outputs": [
    {
     "data": {
      "text/plain": [
       "'abcdefghijklmn'"
      ]
     },
     "execution_count": 18,
     "metadata": {},
     "output_type": "execute_result"
    }
   ],
   "source": [
    "s[::]"
   ]
  },
  {
   "cell_type": "code",
   "execution_count": 19,
   "metadata": {},
   "outputs": [
    {
     "data": {
      "text/plain": [
       "'nmlkjihgfedcba'"
      ]
     },
     "execution_count": 19,
     "metadata": {},
     "output_type": "execute_result"
    }
   ],
   "source": [
    "s[::-1]"
   ]
  },
  {
   "cell_type": "code",
   "execution_count": 22,
   "metadata": {},
   "outputs": [
    {
     "data": {
      "text/plain": [
       "125"
      ]
     },
     "execution_count": 22,
     "metadata": {},
     "output_type": "execute_result"
    }
   ],
   "source": [
    "\"\"\" max()\"\"\"\n",
    "lst=[10,30,12,40,100,25,125,121]\n",
    "max(lst)"
   ]
  },
  {
   "cell_type": "code",
   "execution_count": 26,
   "metadata": {},
   "outputs": [
    {
     "data": {
      "text/plain": [
       "'banana'"
      ]
     },
     "execution_count": 26,
     "metadata": {},
     "output_type": "execute_result"
    }
   ],
   "source": [
    "a=[\"apple\", \"banana\" ,\"date\"]\n",
    "max(a,key=len)\n"
   ]
  },
  {
   "cell_type": "code",
   "execution_count": 37,
   "metadata": {},
   "outputs": [
    {
     "data": {
      "text/plain": [
       "'banana'"
      ]
     },
     "execution_count": 37,
     "metadata": {},
     "output_type": "execute_result"
    }
   ],
   "source": [
    "a=[\"apple\",'banana',\"cherry\",'date']\n",
    "max(a,key=len)\n",
    "#jab dono string ya list ya tuple is length same hoti h to es m first cone first serve ka rule lgta h"
   ]
  },
  {
   "cell_type": "code",
   "execution_count": 38,
   "metadata": {},
   "outputs": [],
   "source": [
    "# ascii value of charcter:\n",
    "# char         ascii\n",
    "# a              97\n",
    "# b              98 \n",
    "# c              99\n",
    "# d               100\n",
    "# e              101\n",
    "# f              102\n",
    "# g              103\n",
    "# h              104\n",
    "# i              105\n",
    "# j              106\n",
    "# k              107\n",
    "# l              108\n",
    "# m              109\n",
    "# n              110\n",
    "# o              111\n",
    "# p              112\n",
    "# q              113\n",
    "# r              114\n",
    "# s              115\n",
    "# t              116\n",
    "# u              117\n",
    "# v              118\n",
    "# w              119\n",
    "# x              120\n",
    "# y              121\n",
    "# z              122\n",
    "\n",
    "# A              65 \n",
    "# B              66\n",
    "# C              67\n",
    "# D              68\n",
    "# E              69\n",
    "# F              70\n",
    "# G              71\n",
    "# H              72\n",
    "# I              73\n",
    "# J              74\n",
    "# K              75\n",
    "# L              76\n",
    "# M              77\n",
    "# N              78\n",
    "# O              79\n",
    "# P              80\n",
    "# Q              81\n",
    "# R              82\n",
    "# S              83\n",
    "# T              84\n",
    "# U              85\n",
    "# V              86\n",
    "# W              87\n",
    "# X              88\n",
    "# Y              89\n",
    "# Z              90\n",
    "# 0              48\n",
    "# 1              49\n",
    "# 2              50\n",
    "# 9              57\n",
    "# space          32\n",
    "# new line       10\n",
    "# tab            9\n"
   ]
  },
  {
   "cell_type": "code",
   "execution_count": null,
   "metadata": {},
   "outputs": [],
   "source": [
    "\"\"\"MODULES  \n",
    "MODULES AFRE TWO TYPE \n",
    "1 user defined module\n",
    "2 predefine module\n",
    "3 3rd party module\n",
    "user defined module : jo user khud bnata h dem0.py test.py\n",
    "predefine module : jo python khud provide krta h  example math module, time module, random module,date time module\n",
    "3rd party module: jo kisi or ne bnaya h example numpy, pandas, matplotlib, openpyxl, pillow, django,flask,tkinter using pip command to install 3rd party module\n",
    "1 a group of statement is called function.\n",
    "2 a group of function is called module.\n",
    "3 a group of module is called package.\n",
    "4 a group of package is called library.\n",
    "5 group of library is called framework.\n",
    " statement= function= module= package= library= framework\"\"\""
   ]
  },
  {
   "cell_type": "code",
   "execution_count": 40,
   "metadata": {},
   "outputs": [
    {
     "data": {
      "text/plain": [
       "2"
      ]
     },
     "execution_count": 40,
     "metadata": {},
     "output_type": "execute_result"
    }
   ],
   "source": [
    "\"\"\"  modules importing ways\n",
    "4 way of importing module\n",
    "1 way impoert module name like import math\n",
    "2 way import module with alias name like import math as m\n",
    "3 way from module import all function like from math import *\n",
    "4 way from module import specific function like from math import sqrt\"\"\"\n",
    "# 1 way example \n",
    "import math\n",
    "math.sqrt(25)\n",
    "math.pow(2,3)\n",
    "math.floor(2.3)\n",
    "# 2 way example \n",
    "import math as m\n",
    "m.sqrt(25)  \n",
    "m.pow(2,3)\n",
    "m.floor(2.3)\n",
    "# 3 way example\n",
    "from math import *\n",
    "sqrt(25)\n",
    "pow(2,3)\n",
    "floor(2.3)\n",
    "# 4  way example\n",
    "from math import sqrt \n",
    "sqrt(25)\n",
    "pow(2,3)\n",
    "floor(2.3)"
   ]
  },
  {
   "cell_type": "code",
   "execution_count": 51,
   "metadata": {},
   "outputs": [
    {
     "data": {
      "text/plain": [
       "5.0"
      ]
     },
     "execution_count": 51,
     "metadata": {},
     "output_type": "execute_result"
    }
   ],
   "source": [
    "from math import pi\n",
    "pi\n",
    "sqrt(25)"
   ]
  },
  {
   "cell_type": "code",
   "execution_count": 5,
   "metadata": {},
   "outputs": [
    {
     "name": "stderr",
     "output_type": "stream",
     "text": [
      "<>:16: SyntaxWarning: invalid escape sequence '\\d'\n",
      "<>:16: SyntaxWarning: invalid escape sequence '\\d'\n",
      "C:\\Users\\loki\\AppData\\Local\\Temp\\ipykernel_7616\\2546939444.py:16: SyntaxWarning: invalid escape sequence '\\d'\n",
      "  \"\"\"pre defined character class\n"
     ]
    },
    {
     "ename": "SyntaxError",
     "evalue": "invalid syntax (2546939444.py, line 23)",
     "output_type": "error",
     "traceback": [
      "\u001b[1;36m  Cell \u001b[1;32mIn[5], line 23\u001b[1;36m\u001b[0m\n\u001b[1;33m    . any character including special character except new line_\\n\u001b[0m\n\u001b[1;37m    ^\u001b[0m\n\u001b[1;31mSyntaxError\u001b[0m\u001b[1;31m:\u001b[0m invalid syntax\n"
     ]
    }
   ],
   "source": [
    "\"\"\" regular expression/REGX\n",
    "regular expression is a sequence of character that forms a search pattern.\n",
    "regular expression can be used to check if a string contains the specified search pattern.\n",
    "regular expression is a powerful tool in programming.\n",
    "ctrl+f to find a regular expression working.\n",
    "to develop translator[compiler] and interpreter.e.g. python, java, c, c++, c#, php, perl, ruby, etc.\n",
    "to develop communication protocol like TCP/IP, UDP, HTTP, SMTP, etc.\n",
    "to genrate otp, password, etc.\n",
    "to develop web scrapping tool like google, bing, yahoo, etc.\n",
    "to develop search engine like google, bing, yahoo, etc.\n",
    "to develop data validation tool like email validation, phone number validation, etc.\n",
    "to develop data extraction tool like email extractor, phone number extractor, etc.\n",
    "to develop data cleaning tool like email cleaning, phone number cleaning, etc.\n",
    "to develop data transformation tool like email transformation, phone number transformation, etc.\n",
    "\"\"\"\n",
    "\"\"\"pre defined character class\n",
    "1 \\d : any digit character [0-9]\n",
    "2 \\D : any non digit character [^0-9]\n",
    "3 \\s : any white space character [space, tab, new line]\n",
    "4 \\S : any non white space character [^space, ^tab, ^new line]\n",
    "5 \\w : any word character [a-z, A-Z, 0-9, _]\n",
    "6 \\W : any non word character [^a-z, ^A-Z, ^0-9, ^_]\"\"\"\n",
    ". any character including special character except new line_\\n\n",
    "\\. hey regular expression only consider.\n",
    "\\, hey regular expression only consider,\n",
    "\\?hey regular expression only consider? \n",
    "\\+ hey regular expression only consider+ \n",
    "\\* hey regular expression only consider*  \n",
    "\\^ hey regular expression only consider^ \n",
    "\\$ hey regular expression only consider$ \n",
    "\\{ hey regular expression only consider{\n",
    "    \n",
    "\n",
    "\n",
    "    \"\"\""
   ]
  },
  {
   "cell_type": "code",
   "execution_count": 6,
   "metadata": {},
   "outputs": [
    {
     "name": "stdout",
     "output_type": "stream",
     "text": [
      "match not aviable\n"
     ]
    }
   ],
   "source": [
    "\"\"\" re function\n",
    "1   math():\n",
    "it is used to match the pattern. is avibale at beging of main string or not\n",
    "IF AVAIBLE THEN RETURN GIVEN  pattren if not aviable then return None\"\"\"\n",
    "#example\n",
    "import re\n",
    "s=input(\"enter some pattern:\")\n",
    "m=re.match(s,\"python narayana\")\n",
    "if m==None:\n",
    "    print(\"match not aviable\")\n",
    "else:\n",
    "    print(\"match aviable\")\n",
    "    print(\"start index {} and end index{}\".format(m.start(),m.end()))"
   ]
  },
  {
   "cell_type": "code",
   "execution_count": 9,
   "metadata": {},
   "outputs": [
    {
     "name": "stdout",
     "output_type": "stream",
     "text": [
      "match not aviable\n"
     ]
    }
   ],
   "source": [
    "# 2 full match(): given pattren is competly match string or not?\n",
    "import re\n",
    "s=input(\"enter some pattern:\")\n",
    "m=re.fullmatch(s,\"python narayana\")\n",
    "if m==None:\n",
    "    print(\"match not aviable\")\n",
    "else:\n",
    "    print(\"match aviable\")\n",
    "    print(\"start index {} and end index{}\".format(m.start(),m.end()))"
   ]
  },
  {
   "cell_type": "code",
   "execution_count": 4,
   "metadata": {},
   "outputs": [
    {
     "name": "stdout",
     "output_type": "stream",
     "text": [
      "match not aviable\n"
     ]
    }
   ],
   "source": [
    "# 3 search(): it is used to search the pattern is aviable in main string from left to right\n",
    "import re\n",
    "s=input(\"enter some pattern:\")\n",
    "m=re.search(s,\"python narayana\")\n",
    "if m==None:\n",
    "    print(\"match not aviable\")\n",
    "else:\n",
    "    print(\"match aviable\")\n",
    "    print(\"start index {} and end index{}\".format(m.start(),m.end()))\n",
    "            "
   ]
  },
  {
   "cell_type": "code",
   "execution_count": 16,
   "metadata": {},
   "outputs": [
    {
     "name": "stdout",
     "output_type": "stream",
     "text": [
      "['Ram', 'Mohan', 'Karan', 'Jhon', 'Sohan']\n",
      "['28', '40', '27', '20', '69']\n"
     ]
    }
   ],
   "source": [
    "# FINDING ALL THINGS.  find all name and age in the given string\n",
    "str1=\"Ram age is 28 and Mohan age is 40 and Karan age is 27 and Jhon age is 20 and Sohan age is 69\"\n",
    "import re\n",
    "name=re.findall(\"[A-Z][a-z]*\",str1)\n",
    "age=re.findall(\"[0-9]{2}\",str1)\n",
    "print(name)\n",
    "print(age)"
   ]
  },
  {
   "cell_type": "code",
   "execution_count": 3,
   "metadata": {},
   "outputs": [
    {
     "name": "stdout",
     "output_type": "stream",
     "text": [
      "##yt#h##k#h\n"
     ]
    }
   ],
   "source": [
    "#sub(function):= sub means substitute the given into main string\n",
    "# whenever 0-9 number is there in the main string put\n",
    "import re\n",
    "m=re.sub (\"[0-9]\",\"#\", \"09yt1h06k2h\")\n",
    "print(m)"
   ]
  },
  {
   "cell_type": "code",
   "execution_count": 19,
   "metadata": {},
   "outputs": [
    {
     "name": "stdout",
     "output_type": "stream",
     "text": [
      "('@@@@@@@@@@@@@@@@@@6486876697561649', 18)\n"
     ]
    },
    {
     "name": "stderr",
     "output_type": "stream",
     "text": [
      "<>:3: SyntaxWarning: invalid escape sequence '\\D'\n",
      "<>:3: SyntaxWarning: invalid escape sequence '\\D'\n",
      "C:\\Users\\loki\\AppData\\Local\\Temp\\ipykernel_9016\\626379130.py:3: SyntaxWarning: invalid escape sequence '\\D'\n",
      "  m=re.subn(\"\\D\",\"@\",\"ffgjghbiljvjkcbvjk6486876697561649\")\n"
     ]
    }
   ],
   "source": [
    "#subn() it also name as sub() function but it is also count how many time  given character in substituted in the main string\n",
    "import re\n",
    "m=re.subn(\"\\D\",\"@\",\"ffgjghbiljvjkcbvjk6486876697561649\")\n",
    "print(m)"
   ]
  },
  {
   "cell_type": "code",
   "execution_count": 23,
   "metadata": {},
   "outputs": [
    {
     "ename": "FileNotFoundError",
     "evalue": "[Errno 2] No such file or directory: 'inputdata.txt'",
     "output_type": "error",
     "traceback": [
      "\u001b[1;31m---------------------------------------------------------------------------\u001b[0m",
      "\u001b[1;31mFileNotFoundError\u001b[0m                         Traceback (most recent call last)",
      "Cell \u001b[1;32mIn[23], line 2\u001b[0m\n\u001b[0;32m      1\u001b[0m \u001b[38;5;28;01mimport\u001b[39;00m \u001b[38;5;21;01mre\u001b[39;00m\n\u001b[1;32m----> 2\u001b[0m \u001b[38;5;28;01mwith\u001b[39;00m \u001b[38;5;28;43mopen\u001b[39;49m\u001b[43m \u001b[49m\u001b[43m(\u001b[49m\u001b[38;5;124;43m\"\u001b[39;49m\u001b[38;5;124;43minputdata.txt\u001b[39;49m\u001b[38;5;124;43m\"\u001b[39;49m\u001b[43m,\u001b[49m\u001b[38;5;124;43m\"\u001b[39;49m\u001b[38;5;124;43mr\u001b[39;49m\u001b[38;5;124;43m\"\u001b[39;49m\u001b[43m)\u001b[49m \u001b[38;5;28;01mas\u001b[39;00m f:\n\u001b[0;32m      3\u001b[0m     data\u001b[38;5;241m=\u001b[39mfile\u001b[38;5;241m.\u001b[39mread()\n",
      "File \u001b[1;32mc:\\Users\\loki\\AppData\\Local\\Programs\\Python\\Python313\\Lib\\site-packages\\IPython\\core\\interactiveshell.py:324\u001b[0m, in \u001b[0;36m_modified_open\u001b[1;34m(file, *args, **kwargs)\u001b[0m\n\u001b[0;32m    317\u001b[0m \u001b[38;5;28;01mif\u001b[39;00m file \u001b[38;5;129;01min\u001b[39;00m {\u001b[38;5;241m0\u001b[39m, \u001b[38;5;241m1\u001b[39m, \u001b[38;5;241m2\u001b[39m}:\n\u001b[0;32m    318\u001b[0m     \u001b[38;5;28;01mraise\u001b[39;00m \u001b[38;5;167;01mValueError\u001b[39;00m(\n\u001b[0;32m    319\u001b[0m         \u001b[38;5;124mf\u001b[39m\u001b[38;5;124m\"\u001b[39m\u001b[38;5;124mIPython won\u001b[39m\u001b[38;5;124m'\u001b[39m\u001b[38;5;124mt let you open fd=\u001b[39m\u001b[38;5;132;01m{\u001b[39;00mfile\u001b[38;5;132;01m}\u001b[39;00m\u001b[38;5;124m by default \u001b[39m\u001b[38;5;124m\"\u001b[39m\n\u001b[0;32m    320\u001b[0m         \u001b[38;5;124m\"\u001b[39m\u001b[38;5;124mas it is likely to crash IPython. If you know what you are doing, \u001b[39m\u001b[38;5;124m\"\u001b[39m\n\u001b[0;32m    321\u001b[0m         \u001b[38;5;124m\"\u001b[39m\u001b[38;5;124myou can use builtins\u001b[39m\u001b[38;5;124m'\u001b[39m\u001b[38;5;124m open.\u001b[39m\u001b[38;5;124m\"\u001b[39m\n\u001b[0;32m    322\u001b[0m     )\n\u001b[1;32m--> 324\u001b[0m \u001b[38;5;28;01mreturn\u001b[39;00m \u001b[43mio_open\u001b[49m\u001b[43m(\u001b[49m\u001b[43mfile\u001b[49m\u001b[43m,\u001b[49m\u001b[43m \u001b[49m\u001b[38;5;241;43m*\u001b[39;49m\u001b[43margs\u001b[49m\u001b[43m,\u001b[49m\u001b[43m \u001b[49m\u001b[38;5;241;43m*\u001b[39;49m\u001b[38;5;241;43m*\u001b[39;49m\u001b[43mkwargs\u001b[49m\u001b[43m)\u001b[49m\n",
      "\u001b[1;31mFileNotFoundError\u001b[0m: [Errno 2] No such file or directory: 'inputdata.txt'"
     ]
    }
   ],
   "source": [
    "import re\n",
    "with open (\"inputdata.txt\",\"r\") as f:\n",
    "    data=file.read()\n",
    "    "
   ]
  },
  {
   "cell_type": "code",
   "execution_count": 20,
   "metadata": {},
   "outputs": [
    {
     "ename": "SyntaxError",
     "evalue": "invalid syntax (525383706.py, line 3)",
     "output_type": "error",
     "traceback": [
      "\u001b[1;36m  Cell \u001b[1;32mIn[20], line 3\u001b[1;36m\u001b[0m\n\u001b[1;33m    def extract_phone_numbers(input.txt.txt):\u001b[0m\n\u001b[1;37m                                   ^\u001b[0m\n\u001b[1;31mSyntaxError\u001b[0m\u001b[1;31m:\u001b[0m invalid syntax\n"
     ]
    }
   ],
   "source": [
    "import re\n",
    "\n",
    "def extract_phone_numbers(input.txt):\n",
    "    with open(inputdata.txt, 'r') as file:\n",
    "        \n",
    "        text = file.read()\n",
    "        \n",
    "    # Regular expression pattern for phone numbers (adjust as needed)\n",
    "    phone_pattern = re.compile(r'\\b\\d{10}\\b')\n",
    "    phone_numbers = phone_pattern.findall(text)\n",
    "    \n",
    "    return phone_numbers\n",
    "\n",
    "# File name\n",
    "inputdata.txt = 'numbers.txt'\n",
    "\n",
    "# Extracting phone numbers\n",
    "phone_numbers = extract_phone_numbers(inputdata.txt)\n",
    "\n",
    "print(\"Phone numbers found in the file:\")\n",
    "for number in phone_numbers:\n",
    "    print(number)\n"
   ]
  },
  {
   "cell_type": "code",
   "execution_count": null,
   "metadata": {},
   "outputs": [],
   "source": [
    "\"\"\" EXCEPTIOANL HANDLING \n",
    "what is expetional handling?\n",
    "exceptional handling is a mechanism to handle runtime error.\n",
    "runtime error is a error that occurs while the program is running.\n",
    "syntex error is a error that occurs while the program is compiling.\n",
    "zero division error, index error, value error, type error, file not found error, etc.\n",
    "\"\"\""
   ]
  },
  {
   "cell_type": "code",
   "execution_count": 2,
   "metadata": {},
   "outputs": [
    {
     "ename": "ZeroDivisionError",
     "evalue": "division by zero",
     "output_type": "error",
     "traceback": [
      "\u001b[1;31m---------------------------------------------------------------------------\u001b[0m",
      "\u001b[1;31mZeroDivisionError\u001b[0m                         Traceback (most recent call last)",
      "Cell \u001b[1;32mIn[2], line 3\u001b[0m\n\u001b[0;32m      1\u001b[0m a\u001b[38;5;241m=\u001b[39m\u001b[38;5;241m10\u001b[39m\n\u001b[0;32m      2\u001b[0m b\u001b[38;5;241m=\u001b[39m\u001b[38;5;241m0\u001b[39m\n\u001b[1;32m----> 3\u001b[0m c\u001b[38;5;241m=\u001b[39m\u001b[43ma\u001b[49m\u001b[38;5;241;43m/\u001b[39;49m\u001b[43mb\u001b[49m\n\u001b[0;32m      4\u001b[0m \u001b[38;5;28mprint\u001b[39m(c)\n",
      "\u001b[1;31mZeroDivisionError\u001b[0m: division by zero"
     ]
    }
   ],
   "source": [
    "a=10\n",
    "b=0\n",
    "c=a/b\n",
    "print(c)"
   ]
  },
  {
   "cell_type": "code",
   "execution_count": 7,
   "metadata": {},
   "outputs": [
    {
     "name": "stdout",
     "output_type": "stream",
     "text": [
      "index is: 8\n",
      "value is: 90\n"
     ]
    }
   ],
   "source": [
    "# create a eradom list to count the index of the list\n",
    "import random\n",
    "lst=[10,20,30,40,50,60,70,80,90,100]\n",
    "index=random.randint(0,10)\n",
    "print(\"index is:\",index)\n",
    "print(\"value is:\",lst[index])\n"
   ]
  },
  {
   "cell_type": "code",
   "execution_count": null,
   "metadata": {},
   "outputs": [],
   "source": [
    "o\n",
    "\n",
    "\n",
    "\n",
    "\n",
    ".............................................................................................................................................................................................................................................................................................................................................................................................................................................................................................................................................................................................................................."
   ]
  }
 ],
 "metadata": {
  "kernelspec": {
   "display_name": "Python 3",
   "language": "python",
   "name": "python3"
  },
  "language_info": {
   "codemirror_mode": {
    "name": "ipython",
    "version": 3
   },
   "file_extension": ".py",
   "mimetype": "text/x-python",
   "name": "python",
   "nbconvert_exporter": "python",
   "pygments_lexer": "ipython3",
   "version": "3.13.1"
  }
 },
 "nbformat": 4,
 "nbformat_minor": 2
}
